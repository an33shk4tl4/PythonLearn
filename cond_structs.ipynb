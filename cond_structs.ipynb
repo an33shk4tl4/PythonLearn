{
 "cells": [
  {
   "cell_type": "code",
   "execution_count": 6,
   "metadata": {},
   "outputs": [
    {
     "name": "stdout",
     "output_type": "stream",
     "text": [
      "Holiday-Saturday\n"
     ]
    }
   ],
   "source": [
    "#if elif else conditional\n",
    "a = 'Sunda'\n",
    "b = 'Saturday'\n",
    "\n",
    "if a == 'Sunday':\n",
    "    pass\n",
    "    # pass does not execute anything , however next statement is executed\n",
    "    print(\"Holiday-Sunday\")\n",
    "elif b == 'Saturday':\n",
    "    print(\"Holiday-Saturday\")\n",
    "else:\n",
    "    print(\"Weekday\")\n"
   ]
  },
  {
   "cell_type": "code",
   "execution_count": 9,
   "metadata": {
    "collapsed": true
   },
   "outputs": [
    {
     "name": "stdout",
     "output_type": "stream",
     "text": [
      "1\n2\n3\n4\n5\n"
     ]
    }
   ],
   "source": [
    "#while loop \n",
    "\n",
    "count = 1\n",
    "while count <= 5:\n",
    "    print(count)\n",
    "    count += 1\n",
    "    "
   ]
  },
  {
   "cell_type": "code",
   "execution_count": 24,
   "metadata": {},
   "outputs": [
    {
     "name": "stdout",
     "output_type": "stream",
     "text": [
      "7\n"
     ]
    }
   ],
   "source": [
    "# switch statement does not exist in python, so alternative using dict \n",
    "# function to return Weekday number based on input 'switch case'\n",
    "\n",
    "def getWeekDaynum(x):\n",
    "    return {'Sunday':1 \n",
    "        , 'Monday':2\n",
    "        , 'Tuesday' :3\n",
    "            ,'Wednesday':4\n",
    "            ,'Thursday' :5\n",
    "            ,'Friday':6\n",
    "            ,'Saturday':7}[x]\n",
    "\n",
    "print(getWeekDaynum('SATURDAY'.title()))\n"
   ]
  },
  {
   "cell_type": "code",
   "execution_count": 42,
   "metadata": {},
   "outputs": [
    {
     "name": "stdout",
     "output_type": "stream",
     "text": [
      "break out\n"
     ]
    }
   ],
   "source": [
    "#while loop with break check \n",
    "\n",
    "# \n",
    "count = 1\n",
    "while count <= 15:\n",
    "    if ((count % 2 ) and count > 0) :\n",
    "        print \"break out\"\n",
    "        break\n",
    "    count += 1\n",
    "    print(count)\n",
    "else:\n",
    "    print('Break not executed')\n",
    "    print(count)"
   ]
  },
  {
   "cell_type": "code",
   "execution_count": 41,
   "metadata": {},
   "outputs": [],
   "source": []
  },
  {
   "cell_type": "code",
   "execution_count": null,
   "metadata": {},
   "outputs": [],
   "source": []
  }
 ],
 "metadata": {
  "kernelspec": {
   "display_name": "Python 2",
   "language": "python",
   "name": "python2"
  },
  "language_info": {
   "codemirror_mode": {
    "name": "ipython",
    "version": 2
   },
   "file_extension": ".py",
   "mimetype": "text/x-python",
   "name": "python",
   "nbconvert_exporter": "python",
   "pygments_lexer": "ipython2",
   "version": "2.7.11"
  }
 },
 "nbformat": 4,
 "nbformat_minor": 1
}
